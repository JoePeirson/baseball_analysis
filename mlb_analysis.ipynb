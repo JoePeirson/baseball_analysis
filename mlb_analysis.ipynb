{
 "cells": [
  {
   "cell_type": "markdown",
   "metadata": {},
   "source": [
    "## Import Libraries"
   ]
  },
  {
   "cell_type": "code",
   "execution_count": 6,
   "metadata": {},
   "outputs": [],
   "source": [
    "import time \n",
    "import numpy as np\n",
    "import pandas as pd\n",
    "import time\n",
    "import datetime\n",
    "from datetime import datetime\n",
    "import statistics\n",
    "import seaborn as sns\n",
    "import warnings\n",
    "import matplotlib.pyplot as plt\n",
    "warnings.filterwarnings(\"ignore\")\n",
    "pd.set_option('display.max_rows', 10000)\n",
    "pd.set_option('display.max_columns', 5000)\n"
   ]
  },
  {
   "cell_type": "markdown",
   "metadata": {},
   "source": [
    "## Load dataset (play by play data for every mlb game in 2020)\n",
    "I web scraped this data from the espn.com play by play commentaries for each baseball match in 2020 (regular and postseason). Each row is equal to one pitch. The rows include the inning, the count (before and after the pitch), the pitch velocity, the pitch result, the type of pitch thrown, and the number of pitches thrown by the pitcher in the game so far. <br><br>\n",
    "I generated the number of pitches thrown column myself, and it took a few hours to create that row, so I have saved the data after creating that row."
   ]
  },
  {
   "cell_type": "code",
   "execution_count": 7,
   "metadata": {},
   "outputs": [],
   "source": [
    "# df = pd.read_csv('mlb1').iloc[:,1:].drop_duplicates().reset_index().iloc[:,1:]\n",
    "# df['count_'] = df.apply(lambda x: str(x['pitch_count_balls'])+'-'+str(x['pitch_count_strikes']),axis=1)\n",
    "# df = df.reset_index()"
   ]
  },
  {
   "cell_type": "code",
   "execution_count": 8,
   "metadata": {},
   "outputs": [],
   "source": [
    "# def pitches_in_inning(pitcher,match,index):\n",
    "#     result = df.iloc[:index+1,:].loc[(df['match_id']==match) & (df['pitcher']==pitcher)].shape[0]\n",
    "#     return result\n",
    "\n",
    "# df['pitches'] = df.apply(lambda x: pitches_in_inning(x['pitcher'],x['match_id'],x['index']),axis=1)"
   ]
  },
  {
   "cell_type": "code",
   "execution_count": 9,
   "metadata": {},
   "outputs": [
    {
     "data": {
      "text/html": [
       "<div>\n",
       "<style scoped>\n",
       "    .dataframe tbody tr th:only-of-type {\n",
       "        vertical-align: middle;\n",
       "    }\n",
       "\n",
       "    .dataframe tbody tr th {\n",
       "        vertical-align: top;\n",
       "    }\n",
       "\n",
       "    .dataframe thead th {\n",
       "        text-align: right;\n",
       "    }\n",
       "</style>\n",
       "<table border=\"1\" class=\"dataframe\">\n",
       "  <thead>\n",
       "    <tr style=\"text-align: right;\">\n",
       "      <th></th>\n",
       "      <th>index</th>\n",
       "      <th>pitcher</th>\n",
       "      <th>pitching_team</th>\n",
       "      <th>batter</th>\n",
       "      <th>batting_team</th>\n",
       "      <th>at_bat_id</th>\n",
       "      <th>match_id</th>\n",
       "      <th>period</th>\n",
       "      <th>pitch_result_balls</th>\n",
       "      <th>pitch_result_strikes</th>\n",
       "      <th>pitch_velocity</th>\n",
       "      <th>pitch_result</th>\n",
       "      <th>pitch_type</th>\n",
       "      <th>pitch_count_balls</th>\n",
       "      <th>pitch_count_strikes</th>\n",
       "      <th>count_</th>\n",
       "      <th>pitches</th>\n",
       "    </tr>\n",
       "  </thead>\n",
       "  <tbody>\n",
       "    <tr>\n",
       "      <th>0</th>\n",
       "      <td>0</td>\n",
       "      <td>Max Scherzer</td>\n",
       "      <td>WSH</td>\n",
       "      <td>Aaron Hicks</td>\n",
       "      <td>NYY</td>\n",
       "      <td>4012256740001</td>\n",
       "      <td>401225674</td>\n",
       "      <td>1</td>\n",
       "      <td>1</td>\n",
       "      <td>0</td>\n",
       "      <td>95.0</td>\n",
       "      <td>ball</td>\n",
       "      <td>Four-seam FB</td>\n",
       "      <td>0</td>\n",
       "      <td>0</td>\n",
       "      <td>0-0</td>\n",
       "      <td>1</td>\n",
       "    </tr>\n",
       "    <tr>\n",
       "      <th>1</th>\n",
       "      <td>1</td>\n",
       "      <td>Max Scherzer</td>\n",
       "      <td>WSH</td>\n",
       "      <td>Aaron Hicks</td>\n",
       "      <td>NYY</td>\n",
       "      <td>4012256740001</td>\n",
       "      <td>401225674</td>\n",
       "      <td>1</td>\n",
       "      <td>2</td>\n",
       "      <td>0</td>\n",
       "      <td>96.0</td>\n",
       "      <td>ball</td>\n",
       "      <td>Four-seam FB</td>\n",
       "      <td>1</td>\n",
       "      <td>0</td>\n",
       "      <td>1-0</td>\n",
       "      <td>2</td>\n",
       "    </tr>\n",
       "    <tr>\n",
       "      <th>2</th>\n",
       "      <td>2</td>\n",
       "      <td>Max Scherzer</td>\n",
       "      <td>WSH</td>\n",
       "      <td>Aaron Hicks</td>\n",
       "      <td>NYY</td>\n",
       "      <td>4012256740001</td>\n",
       "      <td>401225674</td>\n",
       "      <td>1</td>\n",
       "      <td>2</td>\n",
       "      <td>1</td>\n",
       "      <td>96.0</td>\n",
       "      <td>strike looking</td>\n",
       "      <td>Four-seam FB</td>\n",
       "      <td>2</td>\n",
       "      <td>0</td>\n",
       "      <td>2-0</td>\n",
       "      <td>3</td>\n",
       "    </tr>\n",
       "    <tr>\n",
       "      <th>3</th>\n",
       "      <td>3</td>\n",
       "      <td>Max Scherzer</td>\n",
       "      <td>WSH</td>\n",
       "      <td>Aaron Hicks</td>\n",
       "      <td>NYY</td>\n",
       "      <td>4012256740001</td>\n",
       "      <td>401225674</td>\n",
       "      <td>1</td>\n",
       "      <td>2</td>\n",
       "      <td>2</td>\n",
       "      <td>79.0</td>\n",
       "      <td>strike looking</td>\n",
       "      <td>Curve</td>\n",
       "      <td>2</td>\n",
       "      <td>1</td>\n",
       "      <td>2-1</td>\n",
       "      <td>4</td>\n",
       "    </tr>\n",
       "    <tr>\n",
       "      <th>4</th>\n",
       "      <td>4</td>\n",
       "      <td>Max Scherzer</td>\n",
       "      <td>WSH</td>\n",
       "      <td>Aaron Hicks</td>\n",
       "      <td>NYY</td>\n",
       "      <td>4012256740001</td>\n",
       "      <td>401225674</td>\n",
       "      <td>1</td>\n",
       "      <td>2</td>\n",
       "      <td>2</td>\n",
       "      <td>96.0</td>\n",
       "      <td>ground out</td>\n",
       "      <td>Four-seam FB</td>\n",
       "      <td>2</td>\n",
       "      <td>2</td>\n",
       "      <td>2-2</td>\n",
       "      <td>5</td>\n",
       "    </tr>\n",
       "    <tr>\n",
       "      <th>5</th>\n",
       "      <td>5</td>\n",
       "      <td>Max Scherzer</td>\n",
       "      <td>WSH</td>\n",
       "      <td>Aaron Judge</td>\n",
       "      <td>NYY</td>\n",
       "      <td>4012256740002</td>\n",
       "      <td>401225674</td>\n",
       "      <td>1</td>\n",
       "      <td>1</td>\n",
       "      <td>0</td>\n",
       "      <td>96.0</td>\n",
       "      <td>ball</td>\n",
       "      <td>Four-seam FB</td>\n",
       "      <td>0</td>\n",
       "      <td>0</td>\n",
       "      <td>0-0</td>\n",
       "      <td>6</td>\n",
       "    </tr>\n",
       "    <tr>\n",
       "      <th>6</th>\n",
       "      <td>6</td>\n",
       "      <td>Max Scherzer</td>\n",
       "      <td>WSH</td>\n",
       "      <td>Aaron Judge</td>\n",
       "      <td>NYY</td>\n",
       "      <td>4012256740002</td>\n",
       "      <td>401225674</td>\n",
       "      <td>1</td>\n",
       "      <td>1</td>\n",
       "      <td>1</td>\n",
       "      <td>86.0</td>\n",
       "      <td>strike looking</td>\n",
       "      <td>Slider</td>\n",
       "      <td>1</td>\n",
       "      <td>0</td>\n",
       "      <td>1-0</td>\n",
       "      <td>7</td>\n",
       "    </tr>\n",
       "    <tr>\n",
       "      <th>7</th>\n",
       "      <td>7</td>\n",
       "      <td>Max Scherzer</td>\n",
       "      <td>WSH</td>\n",
       "      <td>Aaron Judge</td>\n",
       "      <td>NYY</td>\n",
       "      <td>4012256740002</td>\n",
       "      <td>401225674</td>\n",
       "      <td>1</td>\n",
       "      <td>1</td>\n",
       "      <td>1</td>\n",
       "      <td>96.0</td>\n",
       "      <td>single</td>\n",
       "      <td>Four-seam FB</td>\n",
       "      <td>1</td>\n",
       "      <td>1</td>\n",
       "      <td>1-1</td>\n",
       "      <td>8</td>\n",
       "    </tr>\n",
       "    <tr>\n",
       "      <th>8</th>\n",
       "      <td>8</td>\n",
       "      <td>Max Scherzer</td>\n",
       "      <td>WSH</td>\n",
       "      <td>Gleyber Torres</td>\n",
       "      <td>NYY</td>\n",
       "      <td>4012256740003</td>\n",
       "      <td>401225674</td>\n",
       "      <td>1</td>\n",
       "      <td>0</td>\n",
       "      <td>1</td>\n",
       "      <td>87.0</td>\n",
       "      <td>strike looking</td>\n",
       "      <td>Slider</td>\n",
       "      <td>0</td>\n",
       "      <td>0</td>\n",
       "      <td>0-0</td>\n",
       "      <td>9</td>\n",
       "    </tr>\n",
       "    <tr>\n",
       "      <th>9</th>\n",
       "      <td>9</td>\n",
       "      <td>Max Scherzer</td>\n",
       "      <td>WSH</td>\n",
       "      <td>Gleyber Torres</td>\n",
       "      <td>NYY</td>\n",
       "      <td>4012256740003</td>\n",
       "      <td>401225674</td>\n",
       "      <td>1</td>\n",
       "      <td>1</td>\n",
       "      <td>1</td>\n",
       "      <td>95.0</td>\n",
       "      <td>ball</td>\n",
       "      <td>Four-seam FB</td>\n",
       "      <td>0</td>\n",
       "      <td>1</td>\n",
       "      <td>0-1</td>\n",
       "      <td>10</td>\n",
       "    </tr>\n",
       "  </tbody>\n",
       "</table>\n",
       "</div>"
      ],
      "text/plain": [
       "   index       pitcher pitching_team          batter batting_team  \\\n",
       "0      0  Max Scherzer           WSH     Aaron Hicks          NYY   \n",
       "1      1  Max Scherzer           WSH     Aaron Hicks          NYY   \n",
       "2      2  Max Scherzer           WSH     Aaron Hicks          NYY   \n",
       "3      3  Max Scherzer           WSH     Aaron Hicks          NYY   \n",
       "4      4  Max Scherzer           WSH     Aaron Hicks          NYY   \n",
       "5      5  Max Scherzer           WSH     Aaron Judge          NYY   \n",
       "6      6  Max Scherzer           WSH     Aaron Judge          NYY   \n",
       "7      7  Max Scherzer           WSH     Aaron Judge          NYY   \n",
       "8      8  Max Scherzer           WSH  Gleyber Torres          NYY   \n",
       "9      9  Max Scherzer           WSH  Gleyber Torres          NYY   \n",
       "\n",
       "       at_bat_id   match_id  period  pitch_result_balls  pitch_result_strikes  \\\n",
       "0  4012256740001  401225674       1                   1                     0   \n",
       "1  4012256740001  401225674       1                   2                     0   \n",
       "2  4012256740001  401225674       1                   2                     1   \n",
       "3  4012256740001  401225674       1                   2                     2   \n",
       "4  4012256740001  401225674       1                   2                     2   \n",
       "5  4012256740002  401225674       1                   1                     0   \n",
       "6  4012256740002  401225674       1                   1                     1   \n",
       "7  4012256740002  401225674       1                   1                     1   \n",
       "8  4012256740003  401225674       1                   0                     1   \n",
       "9  4012256740003  401225674       1                   1                     1   \n",
       "\n",
       "   pitch_velocity    pitch_result    pitch_type  pitch_count_balls  \\\n",
       "0            95.0            ball  Four-seam FB                  0   \n",
       "1            96.0            ball  Four-seam FB                  1   \n",
       "2            96.0  strike looking  Four-seam FB                  2   \n",
       "3            79.0  strike looking         Curve                  2   \n",
       "4            96.0      ground out  Four-seam FB                  2   \n",
       "5            96.0            ball  Four-seam FB                  0   \n",
       "6            86.0  strike looking        Slider                  1   \n",
       "7            96.0          single  Four-seam FB                  1   \n",
       "8            87.0  strike looking        Slider                  0   \n",
       "9            95.0            ball  Four-seam FB                  0   \n",
       "\n",
       "   pitch_count_strikes count_  pitches  \n",
       "0                    0    0-0        1  \n",
       "1                    0    1-0        2  \n",
       "2                    0    2-0        3  \n",
       "3                    1    2-1        4  \n",
       "4                    2    2-2        5  \n",
       "5                    0    0-0        6  \n",
       "6                    0    1-0        7  \n",
       "7                    1    1-1        8  \n",
       "8                    0    0-0        9  \n",
       "9                    1    0-1       10  "
      ]
     },
     "execution_count": 9,
     "metadata": {},
     "output_type": "execute_result"
    }
   ],
   "source": [
    "# df.to_csv('saved_mlb_analysis')\n",
    "df = pd.read_csv('saved_mlb_analysis').iloc[:,1:]\n",
    "df.head(10)"
   ]
  },
  {
   "cell_type": "markdown",
   "metadata": {},
   "source": [
    "### Clean the data and format for analysis\n",
    "I have created my own metric called expected bases. Expected bases calculates each players return (or output) from facing a pitcher. <br><br>\n",
    "For example, if a player scores a single, a walk or any other play that results in him getting to first base, this equals one expected base. If a player scores a double, this equals two and so on. If a player is struck out or caught, or cannot make a play, this will be zero. <br><br>\n",
    "I sum up a players total expected bases and divide it by the number of trips to plate, and this gives me and expected bases for each hitter, and expected bases given up for each pitcher.\n",
    "<br><br>\n",
    "This is similar to OPS, but combines slugging and OBP a bit more accurutely rather than adding them together. \n",
    "<br><br>\n",
    "Expected bases will be how I measure the success of various teams, players and strategies"
   ]
  },
  {
   "cell_type": "code",
   "execution_count": 10,
   "metadata": {},
   "outputs": [],
   "source": [
    "\n",
    "df1 = df.drop_duplicates(subset=['at_bat_id'],keep='last')\n",
    "\n",
    "not_out = ['ground rule double',\n",
    " 'wild pitch; runner reached',\n",
    " 'ball',\n",
    " 'batter reached on error (batter to first)',\n",
    " 'catchers interference (batter to first/error)',\n",
    " 'bunt single',\n",
    " 'strikeout batter safe, passed ball',\n",
    " 'batters fielders choice (all runners safe)',\n",
    " 'double',\n",
    " 'hit by pitch',\n",
    " 'home run',\n",
    " 'single',\n",
    " 'triple']\n",
    "df1['expected_bases'] = df1['pitch_result'].apply(lambda x: 1 if x.lower() in not_out else 0\n",
    "                   )+df1['pitch_result'].apply(lambda x: 1 if 'double' in x.lower() else 0\n",
    "                   )+df1['pitch_result'].apply(lambda x: 1 if 'triple' in x.lower() else 0\n",
    "                 )*2+df1['pitch_result'].apply(lambda x: 1 if 'home run' in x.lower() else 0)*3\n",
    "output = df1[['at_bat_id','expected_bases']]\n",
    "df1 = df1[['pitcher','pitching_team', 'batter', 'batting_team','pitch_result']]\n",
    "\n",
    "df = pd.merge(df,output,left_on=['at_bat_id']\n",
    "                                          ,right_on=['at_bat_id'],how='left')"
   ]
  },
  {
   "cell_type": "markdown",
   "metadata": {},
   "source": [
    "### Measuring Opener Pitchers vs Reliever/Closers\n",
    "I first wanted to look at how a pitchers output compares to a all other pitchers. The results were very similar.<br><br>\n"
   ]
  },
  {
   "cell_type": "code",
   "execution_count": 11,
   "metadata": {
    "scrolled": true
   },
   "outputs": [
    {
     "data": {
      "text/html": [
       "<div>\n",
       "<style scoped>\n",
       "    .dataframe tbody tr th:only-of-type {\n",
       "        vertical-align: middle;\n",
       "    }\n",
       "\n",
       "    .dataframe tbody tr th {\n",
       "        vertical-align: top;\n",
       "    }\n",
       "\n",
       "    .dataframe thead th {\n",
       "        text-align: right;\n",
       "    }\n",
       "</style>\n",
       "<table border=\"1\" class=\"dataframe\">\n",
       "  <thead>\n",
       "    <tr style=\"text-align: right;\">\n",
       "      <th></th>\n",
       "      <th>starter</th>\n",
       "      <th>expected_bases</th>\n",
       "      <th>pitch_velocity</th>\n",
       "      <th>pitches</th>\n",
       "    </tr>\n",
       "  </thead>\n",
       "  <tbody>\n",
       "    <tr>\n",
       "      <th>0</th>\n",
       "      <td>0</td>\n",
       "      <td>0.465874</td>\n",
       "      <td>88.575521</td>\n",
       "      <td>13.280017</td>\n",
       "    </tr>\n",
       "    <tr>\n",
       "      <th>1</th>\n",
       "      <td>1</td>\n",
       "      <td>0.467416</td>\n",
       "      <td>87.590738</td>\n",
       "      <td>42.952056</td>\n",
       "    </tr>\n",
       "  </tbody>\n",
       "</table>\n",
       "</div>"
      ],
      "text/plain": [
       "   starter  expected_bases  pitch_velocity    pitches\n",
       "0        0        0.465874       88.575521  13.280017\n",
       "1        1        0.467416       87.590738  42.952056"
      ]
     },
     "execution_count": 11,
     "metadata": {},
     "output_type": "execute_result"
    }
   ],
   "source": [
    "pitcher_starters = df.drop_duplicates(subset=['pitcher','match_id'])[['pitcher','period','match_id']]\n",
    "pitcher_starters['starter'] = pitcher_starters['period'].apply(lambda x: 1 if x==1 else 0)\n",
    "pitcher_starters = pitcher_starters.drop('period', 1)\n",
    "pitcher_starters = pd.merge(df,pitcher_starters,left_on=['pitcher','match_id']\n",
    "                                          ,right_on=['pitcher','match_id'],how='left')\n",
    "pitcher_starters1 = pitcher_starters.groupby(['starter'])['expected_bases','pitch_velocity','pitches'].agg(['mean']).reset_index()\n",
    "pitcher_starters1.columns = ['starter','expected_bases','pitch_velocity','pitches']\n",
    "pitcher_starters1"
   ]
  },
  {
   "cell_type": "markdown",
   "metadata": {},
   "source": [
    "### Measuring Pitcher Fatigue\n",
    "I then looked at how a pitchers output changes with the more pitches he throws in a single game. One would expect, that the more pitches thrown the slower and less productive he'll be. This is the hypothesis I wanted to test. <br><br>\n",
    "In terms of expected bases, after 110 pitches, a pitchers performance dramtically decreases. But before that point, it stays close to the average.\n",
    "<br><br>\n",
    "In terms of pitch velocity, there wasn't any real differnce between pace as more pitches were thrown. This held true when subsetting the data to just look at starters, and subsetting to just look at when a fastball was thrown. <br>\n",
    "Further analysis, could look at how pitchers perfrom when on a shorter rest, especially how many days it takes to get back to full pace. "
   ]
  },
  {
   "cell_type": "code",
   "execution_count": 12,
   "metadata": {
    "scrolled": true
   },
   "outputs": [
    {
     "name": "stdout",
     "output_type": "stream",
     "text": [
      "Average expected_bases 0.467\n",
      "       pitches  expected_bases  count\n",
      "0      (0, 10]        0.463852  81444\n",
      "1     (10, 20]        0.467577  58307\n",
      "2     (20, 30]        0.453711  33107\n",
      "3     (30, 40]        0.465486  23425\n",
      "4     (40, 50]        0.516020  19788\n",
      "5     (50, 60]        0.482676  17635\n",
      "6     (60, 70]        0.461169  15632\n",
      "7     (70, 80]        0.446746  12985\n",
      "8     (80, 90]        0.443722   9231\n",
      "9    (90, 100]        0.459520   4496\n",
      "10  (100, 110]        0.435038   1193\n",
      "11  (110, 120]        0.582090    134\n"
     ]
    },
    {
     "data": {
      "image/png": "[encoded data removed]",
      "text/plain": [
       "<Figure size 432x288 with 1 Axes>"
      ]
     },
     "metadata": {
      "needs_background": "light"
     },
     "output_type": "display_data"
    },
    {
     "name": "stdout",
     "output_type": "stream",
     "text": [
      "Average pitch_velocity 88.035\n",
      "       pitches  pitch_velocity  count\n",
      "0      (0, 10]       88.798940  81354\n",
      "1     (10, 20]       88.443695  58236\n",
      "2     (20, 30]       87.986452  33067\n",
      "3     (30, 40]       87.519400  23402\n",
      "4     (40, 50]       87.236392  19768\n",
      "5     (50, 60]       87.208709  17613\n",
      "6     (60, 70]       87.028123  15610\n",
      "7     (70, 80]       87.035720  12962\n",
      "8     (80, 90]       87.130836   9210\n",
      "9    (90, 100]       87.058981   4476\n",
      "10  (100, 110]       87.627966   1180\n",
      "11  (110, 120]       87.671642    134\n"
     ]
    },
    {
     "data": {
      "image/png": "[encoded data removed]",
      "text/plain": [
       "<Figure size 432x288 with 1 Axes>"
      ]
     },
     "metadata": {
      "needs_background": "light"
     },
     "output_type": "display_data"
    }
   ],
   "source": [
    "pitcher_fatigue = df.iloc[:,1:]\n",
    "variables = ['expected_bases','pitch_velocity']    \n",
    "\n",
    "for variable in variables:\n",
    "    pitcher_fatigue1 = pitcher_fatigue[['pitches',variable]]\n",
    "    bin_range = [0,10,20,30,40,50,60,70,80,90,100,110,120]\n",
    "    pitcher_fatigue1['groups']=pd.cut(pitcher_fatigue1['pitches'],bin_range)\n",
    "    print('Average',str(variable),round(pitcher_fatigue1[variable].mean(),3))\n",
    "    pitcher_fatigue1 = pitcher_fatigue1.groupby(['groups'])[variable].agg(['mean','count']).reset_index()\n",
    "    pitcher_fatigue1 = pitcher_fatigue1.loc[pitcher_fatigue1['count']>100]\n",
    "    pitcher_fatigue1.columns = ['pitches',variable,'count']\n",
    "    sns.barplot(x='pitches', y=variable, data=pitcher_fatigue1)\n",
    "    plt.axhline(pitcher_fatigue1[variable].mean(), color=\"red\",lw=2)\n",
    "    plt.xticks(rotation=90)\n",
    "    plt.tight_layout()\n",
    "    print(pitcher_fatigue1)\n",
    "    plt.show()\n",
    "    "
   ]
  },
  {
   "cell_type": "markdown",
   "metadata": {},
   "source": [
    "### Measuring Pitch Count and Pitch Velocity against Expected Bases\n",
    "Here I look at how a pitchers expected bases given up compare with the pitch count and the pitchers pace. <br><br>\n",
    "Firstly, the histogram for pitch count is as expected. When the pitch count is in the batters favour, expected bases are higher, and visa versa. <br>\n",
    "But there is space for some efficiency gains in batting. For example, at a pitch count of 3-1, a batter can get a walk if he gets a ball in one of the next three balls. A batters expected bases at a 3-1 count is 0.719, but when choosing to play safe and avoid attmepting to hit a players expected bases go up to 0.752. Obviously, this strategy has to be limited due to pitchers becoming aware of the strategy. <br><br>\n",
    "In terms of pitch velocity, when pitching 97mph and faster the efficiency of a pitcher start to improves rapidly when measured against expected bases. <br><br>\n",
    "Note: I have taken out data where there was not a big enough sample size, this is why the average expected bases is different.\n",
    "\n"
   ]
  },
  {
   "cell_type": "code",
   "execution_count": 13,
   "metadata": {
    "scrolled": true
   },
   "outputs": [
    {
     "name": "stdout",
     "output_type": "stream",
     "text": [
      "Average expected bases: 0.471\n"
     ]
    },
    {
     "data": {
      "image/png": "[encoded data removed]",
      "text/plain": [
       "<Figure size 432x288 with 1 Axes>"
      ]
     },
     "metadata": {
      "needs_background": "light"
     },
     "output_type": "display_data"
    },
    {
     "name": "stdout",
     "output_type": "stream",
     "text": [
      "Average expected bases: 0.466\n"
     ]
    },
    {
     "data": {
      "image/png": "[encoded data removed]",
      "text/plain": [
       "<Figure size 432x288 with 1 Axes>"
      ]
     },
     "metadata": {
      "needs_background": "light"
     },
     "output_type": "display_data"
    }
   ],
   "source": [
    "variables = ['count_','pitch_velocity']\n",
    "for variable in variables:\n",
    "    analysis = df.drop_duplicates(subset=[variable,'at_bat_id'],keep='last')\n",
    "    analysis = analysis[[variable,'pitch_result','expected_bases']]\n",
    "    analysis = analysis.drop('pitch_result', 1).dropna()\n",
    "    print('Average expected bases:',round(analysis['expected_bases'].mean(),3))\n",
    "    analysis = analysis.groupby([variable])['expected_bases'].agg(['mean','count']).reset_index()\n",
    "\n",
    "    analysis.columns = [variable,'expected_bases','count']\n",
    "    analysis = analysis.loc[analysis['count']>50]\n",
    "\n",
    "    sns.barplot(x=variable, y=\"expected_bases\", data=analysis)\n",
    "    plt.xticks(rotation=90)\n",
    "    plt.tight_layout()\n",
    "    plt.show()"
   ]
  },
  {
   "cell_type": "markdown",
   "metadata": {},
   "source": [
    "Example of a small inefficiency"
   ]
  },
  {
   "cell_type": "code",
   "execution_count": 14,
   "metadata": {},
   "outputs": [
    {
     "name": "stdout",
     "output_type": "stream",
     "text": [
      "When pitch count is 3-1 expected bases are 0.719 \n",
      "When leaving ball expected bases are 0.752\n"
     ]
    }
   ],
   "source": [
    "pitch_count_ = '3-1'\n",
    "analysis = df.drop_duplicates(subset=['count_','at_bat_id'],keep='last')\n",
    "analysis = analysis[['count_','pitch_result','expected_bases']]\n",
    "analysis = analysis.drop('pitch_result', 1).dropna()\n",
    "analysis = analysis.groupby(['count_'])['expected_bases'].agg(['mean','count']).reset_index()\n",
    "league_avg = round(float(analysis.loc[analysis['count_']== pitch_count_]['mean']),3)\n",
    "\n",
    "non_ball_rate = 1-df.loc[(df['pitch_result']=='ball') | (df['pitch_result']=='hit by pitch')].shape[0]/df.shape[0]\n",
    "walk = round(1-(non_ball_rate**3),3)\n",
    "print('When pitch count is',pitch_count_,'expected bases are',league_avg,'\\nWhen leaving ball expected bases are',walk)"
   ]
  },
  {
   "cell_type": "markdown",
   "metadata": {},
   "source": [
    "### Measuring pitch variety strategy\n",
    "Here I look at how the success of pitchers with more pitch types compare to those with less. <br><br>\n",
    "Pitchers who throw five different pitches regulary (each pitch more than 15% of pitches) don't seem to be too successful. The data shows that it is best to throw between 2-3 pitch types and throw them regulary. <br>\n"
   ]
  },
  {
   "cell_type": "code",
   "execution_count": 15,
   "metadata": {
    "scrolled": true
   },
   "outputs": [
    {
     "name": "stdout",
     "output_type": "stream",
     "text": [
      "Number of pitch types above: 0.15 Average expected bases: 0.483\n"
     ]
    },
    {
     "data": {
      "image/png": "[encoded data removed]",
      "text/plain": [
       "<Figure size 432x288 with 1 Axes>"
      ]
     },
     "metadata": {
      "needs_background": "light"
     },
     "output_type": "display_data"
    },
    {
     "name": "stdout",
     "output_type": "stream",
     "text": [
      "Number of pitch types above: 0.25 Average expected bases: 0.483\n"
     ]
    },
    {
     "data": {
      "image/png": "[encoded data removed]",
      "text/plain": [
       "<Figure size 432x288 with 1 Axes>"
      ]
     },
     "metadata": {
      "needs_background": "light"
     },
     "output_type": "display_data"
    },
    {
     "name": "stdout",
     "output_type": "stream",
     "text": [
      "Number of pitch types above: 0.33 Average expected bases: 0.483\n"
     ]
    },
    {
     "data": {
      "image/png": "[encoded data removed]",
      "text/plain": [
       "<Figure size 432x288 with 1 Axes>"
      ]
     },
     "metadata": {
      "needs_background": "light"
     },
     "output_type": "display_data"
    }
   ],
   "source": [
    "pitchers = df1\n",
    "pitchers['expected_bases'] = pitchers['pitch_result'].apply(lambda x: 1 if x.lower() in not_out else 0\n",
    "                   )+pitchers['pitch_result'].apply(lambda x: 1 if 'double' in x.lower() else 0\n",
    "                   )+pitchers['pitch_result'].apply(lambda x: 1 if 'triple' in x.lower() else 0\n",
    "                 )*2+pitchers['pitch_result'].apply(lambda x: 1 if 'home run' in x.lower() else 0)*3\n",
    "pitchers_agg = pitchers.groupby(['pitcher','pitching_team'])['expected_bases'].agg(['mean','count']).reset_index()\n",
    "pitchers_agg = pitchers_agg.loc[pitchers_agg['count']>=100].sort_values('mean',ascending=False)\n",
    "pitchers_agg.columns = ['pitcher','pitching_team','expected_bases','count']\n",
    "pitchers_agg = pitchers_agg.sort_values('expected_bases',ascending=True)\n",
    "\n",
    "pitch_types = pitcher_starters.loc[pitcher_starters['starter']==1][['pitcher','pitch_type']]\n",
    "pitch_types = pd.get_dummies(pitch_types, columns=['pitch_type'])\n",
    "cols = ['pitch_type_Changeup', 'pitch_type_Curve',\n",
    "       'pitch_type_Cutter', 'pitch_type_Four-seam FB',\n",
    "       'pitch_type_Knuckle Curve', 'pitch_type_Sinker', 'pitch_type_Slider',\n",
    "       'pitch_type_Slow Curve', 'pitch_type_Splitter',\n",
    "       'pitch_type_Two-seam FB']\n",
    "pitch_types = pitch_types.groupby(['pitcher'])[cols].agg(['sum']).reset_index()\n",
    "pitch_types.columns = list(['pitcher']+cols)\n",
    "pitch_types['total_pitches'] = pitch_types.apply(lambda x: sum(x[cols]),axis=1)\n",
    "pitch_types[cols] = pitch_types.apply(lambda x: x[cols]/x['total_pitches'],axis=1)\n",
    "\n",
    "pitch_freqs = [.15,.25,.33]\n",
    "for pitch_freq in pitch_freqs:\n",
    "    pitch_types1 = pitch_types\n",
    "    pitch_types1['types_total'] = pitch_types1.apply(lambda x: sum(x[cols]>=pitch_freq),axis=1)\n",
    "    pitch_types1 = pitch_types1[['pitcher','total_pitches','types_total']]\n",
    "\n",
    "    pitch_types1 = pd.merge(pitch_types1,pitchers_agg[['pitcher','expected_bases']],left_on=['pitcher']\n",
    "                                              ,right_on=['pitcher'],how='outer').dropna()\n",
    "\n",
    "    print('Number of pitch types above:',pitch_freq,'Average expected bases:',round(pitch_types1['expected_bases'].mean(),3))\n",
    "    pitch_types1 = pitch_types1.loc[pitch_types1['total_pitches']>300]\n",
    "    sns.barplot(x='types_total', y=\"expected_bases\", data=pitch_types1)\n",
    "    plt.axhline(pitch_types1['expected_bases'].mean(), color=\"red\",lw=2)\n",
    "    plt.xticks(rotation=90)\n",
    "    plt.tight_layout()\n",
    "    plt.show()"
   ]
  },
  {
   "cell_type": "markdown",
   "metadata": {},
   "source": [
    "The data below backs this theory up.<br>\n",
    "The first part, shows the success for all pitch types for pitchers that choose to pitch three different pitches all over 25%. Alongside this is average expected bases for all these pitchers.<br>\n",
    "The second part, shows the lack of success for all pitch types for pitchers that choose to pitch five different pitches all over 15%. Alongside this is average expected bases for all these pitchers. <br>"
   ]
  },
  {
   "cell_type": "code",
   "execution_count": 12,
   "metadata": {
    "scrolled": true
   },
   "outputs": [
    {
     "name": "stdout",
     "output_type": "stream",
     "text": [
      "Changeup , 0.404 , 1375\n",
      "Curve , 0.376 , 773\n",
      "Cutter , 0.473 , 835\n",
      "Four-seam FB , 0.447 , 2164\n",
      "Knuckle Curve , 0.422 , 405\n",
      "Sinker , 0.428 , 1501\n",
      "Slider , 0.356 , 960\n",
      "League average: 0.467\n",
      "Average of players in this data: 0.42\n",
      "\n",
      "Changeup , 0.553 , 237\n",
      "Curve , 0.568 , 301\n",
      "Cutter , 0.63 , 208\n",
      "Four-seam FB , 0.524 , 311\n",
      "Sinker , 0.57 , 291\n",
      "Slider , 0.443 , 194\n",
      "League average: 0.467\n",
      "Average of players in this data: 0.55\n"
     ]
    }
   ],
   "source": [
    "pitches = ['pitch_type_Changeup', 'pitch_type_Curve',\n",
    "       'pitch_type_Cutter', 'pitch_type_Four-seam FB',\n",
    "       'pitch_type_Knuckle Curve', 'pitch_type_Sinker', 'pitch_type_Slider',\n",
    "       'pitch_type_Slow Curve', 'pitch_type_Splitter',\n",
    "       'pitch_type_Two-seam FB']\n",
    "sum_ = 0\n",
    "count_ = 0\n",
    "for pitch in pitches:\n",
    "    \n",
    "    pitch_types1 = pitch_types\n",
    "    pitch_types1['types_total'] = pitch_types1.apply(lambda x: sum(x[cols]>=.25),axis=1)\n",
    "    bad_pitch = pitch_types1.loc[(pitch_types1[pitch]>0.25) & (pitch_types1['types_total']==3)]['pitcher']\n",
    "    pitch = pitch.replace('pitch_type_','')\n",
    "    exp = df.loc[(df['pitch_type']==pitch) & (df['pitcher'].isin(bad_pitch))]['expected_bases']\n",
    "    if exp.count()>100:\n",
    "        print(pitch,',',round(exp.mean(),3),',',exp.count())\n",
    "        sum_ = exp.sum() +sum_\n",
    "        count_ = exp.count() + count_\n",
    "print('League average:',round(df['expected_bases'].mean(),3))\n",
    "print('Average of players in this data:',round(sum_/count_,3))\n",
    "print()\n",
    "sum_ = 0\n",
    "count_ = 0\n",
    "for pitch in pitches:\n",
    "    pitch_types1 = pitch_types\n",
    "    pitch_types1['types_total'] = pitch_types1.apply(lambda x: sum(x[cols]>=.15),axis=1)\n",
    "    bad_pitch = pitch_types1.loc[(pitch_types1[pitch]>0.15) & (pitch_types1['types_total']==5)]['pitcher']\n",
    "    pitch = pitch.replace('pitch_type_','')\n",
    "    exp = df.loc[(df['pitch_type']==pitch) & (df['pitcher'].isin(bad_pitch))]['expected_bases']\n",
    "    if exp.count()>100:\n",
    "        print(pitch,',',round(exp.mean(),3),',',exp.count())\n",
    "        sum_ = exp.sum() +sum_\n",
    "        count_ = exp.count() + count_\n",
    "print('League average:',round(df['expected_bases'].mean(),3))\n",
    "print('Average of players in this data:',round(sum_/count_,3))\n"
   ]
  },
  {
   "cell_type": "markdown",
   "metadata": {},
   "source": [
    "### Pitchers and Batters expected bases for the 2020 season (over 100 plate visits)"
   ]
  },
  {
   "cell_type": "code",
   "execution_count": 13,
   "metadata": {},
   "outputs": [
    {
     "data": {
      "text/html": [
       "<div>\n",
       "<style scoped>\n",
       "    .dataframe tbody tr th:only-of-type {\n",
       "        vertical-align: middle;\n",
       "    }\n",
       "\n",
       "    .dataframe tbody tr th {\n",
       "        vertical-align: top;\n",
       "    }\n",
       "\n",
       "    .dataframe thead th {\n",
       "        text-align: right;\n",
       "    }\n",
       "</style>\n",
       "<table border=\"1\" class=\"dataframe\">\n",
       "  <thead>\n",
       "    <tr style=\"text-align: right;\">\n",
       "      <th></th>\n",
       "      <th>pitcher</th>\n",
       "      <th>pitching_team</th>\n",
       "      <th>expected_bases</th>\n",
       "      <th>count</th>\n",
       "    </tr>\n",
       "  </thead>\n",
       "  <tbody>\n",
       "    <tr>\n",
       "      <th>461</th>\n",
       "      <td>Liam Hendriks</td>\n",
       "      <td>OAK</td>\n",
       "      <td>0.267241</td>\n",
       "      <td>116</td>\n",
       "    </tr>\n",
       "    <tr>\n",
       "      <th>217</th>\n",
       "      <td>Devin Williams</td>\n",
       "      <td>MIL</td>\n",
       "      <td>0.270000</td>\n",
       "      <td>100</td>\n",
       "    </tr>\n",
       "    <tr>\n",
       "      <th>9</th>\n",
       "      <td>Aaron Slegers</td>\n",
       "      <td>TB</td>\n",
       "      <td>0.300000</td>\n",
       "      <td>120</td>\n",
       "    </tr>\n",
       "    <tr>\n",
       "      <th>307</th>\n",
       "      <td>Jake Diekman</td>\n",
       "      <td>OAK</td>\n",
       "      <td>0.310680</td>\n",
       "      <td>103</td>\n",
       "    </tr>\n",
       "    <tr>\n",
       "      <th>77</th>\n",
       "      <td>Brad Keller</td>\n",
       "      <td>KC</td>\n",
       "      <td>0.316279</td>\n",
       "      <td>215</td>\n",
       "    </tr>\n",
       "    <tr>\n",
       "      <th>106</th>\n",
       "      <td>Brusdar Graterol</td>\n",
       "      <td>LAD</td>\n",
       "      <td>0.318182</td>\n",
       "      <td>110</td>\n",
       "    </tr>\n",
       "    <tr>\n",
       "      <th>222</th>\n",
       "      <td>Dinelson Lamet</td>\n",
       "      <td>SD</td>\n",
       "      <td>0.333333</td>\n",
       "      <td>267</td>\n",
       "    </tr>\n",
       "    <tr>\n",
       "      <th>289</th>\n",
       "      <td>Ian Anderson</td>\n",
       "      <td>ATL</td>\n",
       "      <td>0.334884</td>\n",
       "      <td>215</td>\n",
       "    </tr>\n",
       "    <tr>\n",
       "      <th>538</th>\n",
       "      <td>Nick Anderson</td>\n",
       "      <td>TB</td>\n",
       "      <td>0.336538</td>\n",
       "      <td>104</td>\n",
       "    </tr>\n",
       "    <tr>\n",
       "      <th>484</th>\n",
       "      <td>Mark Melancon</td>\n",
       "      <td>ATL</td>\n",
       "      <td>0.339130</td>\n",
       "      <td>115</td>\n",
       "    </tr>\n",
       "  </tbody>\n",
       "</table>\n",
       "</div>"
      ],
      "text/plain": [
       "              pitcher pitching_team  expected_bases  count\n",
       "461     Liam Hendriks           OAK        0.267241    116\n",
       "217    Devin Williams           MIL        0.270000    100\n",
       "9       Aaron Slegers            TB        0.300000    120\n",
       "307      Jake Diekman           OAK        0.310680    103\n",
       "77        Brad Keller            KC        0.316279    215\n",
       "106  Brusdar Graterol           LAD        0.318182    110\n",
       "222    Dinelson Lamet            SD        0.333333    267\n",
       "289      Ian Anderson           ATL        0.334884    215\n",
       "538     Nick Anderson            TB        0.336538    104\n",
       "484     Mark Melancon           ATL        0.339130    115"
      ]
     },
     "execution_count": 13,
     "metadata": {},
     "output_type": "execute_result"
    }
   ],
   "source": [
    "pitchers_agg.head(10)"
   ]
  },
  {
   "cell_type": "code",
   "execution_count": 14,
   "metadata": {
    "scrolled": true
   },
   "outputs": [
    {
     "data": {
      "text/html": [
       "<div>\n",
       "<style scoped>\n",
       "    .dataframe tbody tr th:only-of-type {\n",
       "        vertical-align: middle;\n",
       "    }\n",
       "\n",
       "    .dataframe tbody tr th {\n",
       "        vertical-align: top;\n",
       "    }\n",
       "\n",
       "    .dataframe thead th {\n",
       "        text-align: right;\n",
       "    }\n",
       "</style>\n",
       "<table border=\"1\" class=\"dataframe\">\n",
       "  <thead>\n",
       "    <tr style=\"text-align: right;\">\n",
       "      <th></th>\n",
       "      <th>batter</th>\n",
       "      <th>batting_team</th>\n",
       "      <th>mean</th>\n",
       "      <th>count</th>\n",
       "    </tr>\n",
       "  </thead>\n",
       "  <tbody>\n",
       "    <tr>\n",
       "      <th>339</th>\n",
       "      <td>Juan Soto</td>\n",
       "      <td>WSH</td>\n",
       "      <td>0.763158</td>\n",
       "      <td>190</td>\n",
       "    </tr>\n",
       "    <tr>\n",
       "      <th>490</th>\n",
       "      <td>Randy Arozarena</td>\n",
       "      <td>TB</td>\n",
       "      <td>0.748201</td>\n",
       "      <td>139</td>\n",
       "    </tr>\n",
       "    <tr>\n",
       "      <th>217</th>\n",
       "      <td>Giancarlo Stanton</td>\n",
       "      <td>NYY</td>\n",
       "      <td>0.693548</td>\n",
       "      <td>124</td>\n",
       "    </tr>\n",
       "    <tr>\n",
       "      <th>209</th>\n",
       "      <td>Freddie Freeman</td>\n",
       "      <td>ATL</td>\n",
       "      <td>0.687296</td>\n",
       "      <td>307</td>\n",
       "    </tr>\n",
       "    <tr>\n",
       "      <th>325</th>\n",
       "      <td>Jose Ramirez</td>\n",
       "      <td>CLE</td>\n",
       "      <td>0.676806</td>\n",
       "      <td>263</td>\n",
       "    </tr>\n",
       "    <tr>\n",
       "      <th>264</th>\n",
       "      <td>Jared Walsh</td>\n",
       "      <td>LAA</td>\n",
       "      <td>0.675926</td>\n",
       "      <td>108</td>\n",
       "    </tr>\n",
       "    <tr>\n",
       "      <th>440</th>\n",
       "      <td>Mike Trout</td>\n",
       "      <td>LAA</td>\n",
       "      <td>0.663866</td>\n",
       "      <td>238</td>\n",
       "    </tr>\n",
       "    <tr>\n",
       "      <th>520</th>\n",
       "      <td>Salvador Perez</td>\n",
       "      <td>KC</td>\n",
       "      <td>0.662420</td>\n",
       "      <td>157</td>\n",
       "    </tr>\n",
       "    <tr>\n",
       "      <th>73</th>\n",
       "      <td>Brandon Belt</td>\n",
       "      <td>SF</td>\n",
       "      <td>0.657303</td>\n",
       "      <td>178</td>\n",
       "    </tr>\n",
       "    <tr>\n",
       "      <th>398</th>\n",
       "      <td>Marcell Ozuna</td>\n",
       "      <td>ATL</td>\n",
       "      <td>0.653125</td>\n",
       "      <td>320</td>\n",
       "    </tr>\n",
       "  </tbody>\n",
       "</table>\n",
       "</div>"
      ],
      "text/plain": [
       "                batter batting_team      mean  count\n",
       "339          Juan Soto          WSH  0.763158    190\n",
       "490    Randy Arozarena           TB  0.748201    139\n",
       "217  Giancarlo Stanton          NYY  0.693548    124\n",
       "209    Freddie Freeman          ATL  0.687296    307\n",
       "325       Jose Ramirez          CLE  0.676806    263\n",
       "264        Jared Walsh          LAA  0.675926    108\n",
       "440         Mike Trout          LAA  0.663866    238\n",
       "520     Salvador Perez           KC  0.662420    157\n",
       "73        Brandon Belt           SF  0.657303    178\n",
       "398      Marcell Ozuna          ATL  0.653125    320"
      ]
     },
     "execution_count": 14,
     "metadata": {},
     "output_type": "execute_result"
    }
   ],
   "source": [
    "batters = df1\n",
    "batters['expected_bases'] = batters['pitch_result'].apply(lambda x: 1 if x.lower() in not_out else 0\n",
    "                   )+batters['pitch_result'].apply(lambda x: 1 if 'double' in x.lower() else 0\n",
    "                   )+batters['pitch_result'].apply(lambda x: 1 if 'triple' in x.lower() else 0\n",
    "                 )*2+batters['pitch_result'].apply(lambda x: 1 if 'home run' in x.lower() else 0)*3\n",
    "batters_agg = batters.groupby(['batter','batting_team'])['expected_bases'].agg(['mean','count']).reset_index()\n",
    "batters_agg = batters_agg.loc[batters_agg['count']>=100].sort_values('mean',ascending=False)\n",
    "batters_agg.loc[batters_agg['batting_team']=='SEA']\n",
    "batters_agg.head(10)"
   ]
  },
  {
   "cell_type": "code",
   "execution_count": null,
   "metadata": {},
   "outputs": [],
   "source": []
  }
 ],
 "metadata": {
  "kernelspec": {
   "display_name": "Python 3",
   "language": "python",
   "name": "python3"
  },
  "language_info": {
   "codemirror_mode": {
    "name": "ipython",
    "version": 3
   },
   "file_extension": ".py",
   "mimetype": "text/x-python",
   "name": "python",
   "nbconvert_exporter": "python",
   "pygments_lexer": "ipython3",
   "version": "3.8.3"
  }
 },
 "nbformat": 4,
 "nbformat_minor": 4
}
